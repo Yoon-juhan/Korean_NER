{
 "cells": [
  {
   "cell_type": "markdown",
   "metadata": {},
   "source": [
    "**모델, 토크나이저 불러오기**"
   ]
  },
  {
   "cell_type": "code",
   "execution_count": 1,
   "metadata": {},
   "outputs": [
    {
     "name": "stderr",
     "output_type": "stream",
     "text": [
      "c:\\Users\\USER\\Documents\\GitHub\\Korean_NER\\venv\\lib\\site-packages\\tensorflow_addons\\utils\\tfa_eol_msg.py:23: UserWarning: \n",
      "\n",
      "TensorFlow Addons (TFA) has ended development and introduction of new features.\n",
      "TFA has entered a minimal maintenance and release mode until a planned end of life in May 2024.\n",
      "Please modify downstream libraries to take dependencies from other repositories in our TensorFlow community (e.g. Keras, Keras-CV, and Keras-NLP). \n",
      "\n",
      "For more information see: https://github.com/tensorflow/addons/issues/2807 \n",
      "\n",
      "  warnings.warn(\n",
      "c:\\Users\\USER\\Documents\\GitHub\\Korean_NER\\venv\\lib\\site-packages\\tensorflow_addons\\utils\\ensure_tf_install.py:53: UserWarning: Tensorflow Addons supports using Python ops for all Tensorflow versions above or equal to 2.12.0 and strictly below 2.15.0 (nightly versions are not supported). \n",
      " The versions of TensorFlow you are currently using is 2.10.0 and is not supported. \n",
      "Some things might work, some things might not.\n",
      "If you were to encounter a bug, do not file an issue.\n",
      "If you want to make sure you're using a tested and supported configuration, either change the TensorFlow version or the TensorFlow Addons's version. \n",
      "You can find the compatibility matrix in TensorFlow Addon's readme:\n",
      "https://github.com/tensorflow/addons\n",
      "  warnings.warn(\n"
     ]
    }
   ],
   "source": [
    "import json\n",
    "from keras_crf import CRFModel\n",
    "from tensorflow.keras import Model\n",
    "from tensorflow.keras.models import load_model\n",
    "from tensorflow.keras.preprocessing.text import tokenizer_from_json\n",
    "from tensorflow.keras.optimizers import Adam\n",
    "from tensorflow.keras.preprocessing.sequence import pad_sequences\n",
    "\n",
    "# 모델을 저장하고 불러오기 위해 정의\n",
    "class CustomCRFModel(CRFModel):\n",
    "    def __init__(self, model, units):\n",
    "        super(CustomCRFModel, self).__init__(model, units)\n",
    "        self.model = model\n",
    "        self.units = units\n",
    "\n",
    "    def get_config(self):\n",
    "        config = {\n",
    "            'model': self.model.get_config(),\n",
    "            'units': self.units\n",
    "        }\n",
    "        return config\n",
    "\n",
    "    @classmethod\n",
    "    def from_config(cls, config):\n",
    "        model = Model.from_config(config['model'])\n",
    "        units = config['units']\n",
    "        return cls(model, units)\n",
    "\n",
    "custom_objects = {\n",
    "    'CustomCRFModel': CustomCRFModel\n",
    "}\n",
    "\n",
    "# 저장된 모델 불러오기\n",
    "model = load_model('bilstm_crf.h5', custom_objects=custom_objects, compile=False)\n",
    "model.compile(optimizer=Adam(0.001), metrics='accuracy')\n",
    "\n",
    "# 저장된 토크나이저 불러오기\n",
    "with open('sentence_tokenizer_json.json', 'r', encoding='utf-8') as f:\n",
    "    sentence_tokenizer_json = json.load(f)\n",
    "    sentence_tokenizer = tokenizer_from_json(sentence_tokenizer_json)\n",
    "\n",
    "with open('tag_tokenizer_json.json', 'r', encoding='utf-8') as f:\n",
    "    tag_tokenizer_json = json.load(f)\n",
    "    tag_tokenizer = tokenizer_from_json(tag_tokenizer_json)"
   ]
  },
  {
   "cell_type": "code",
   "execution_count": null,
   "metadata": {},
   "outputs": [],
   "source": [
    "model.summary()"
   ]
  },
  {
   "cell_type": "code",
   "execution_count": 9,
   "metadata": {},
   "outputs": [
    {
     "name": "stdout",
     "output_type": "stream",
     "text": [
      "['올', '가을', '출시', '예정인', '애플의', '아이폰16', '시리즈', '모든', '기종에', 'A18', '칩이', '탑재될', '것으로', '보인다.']\n",
      "1/1 [==============================] - 0s 99ms/step\n",
      "단어                 예측값\n",
      "-----------------------------------\n",
      "올                 B-DT\n",
      "가을                I-DT\n",
      "defaultdict(<class 'list'>, {'DT': ['올', '가을']})\n"
     ]
    }
   ],
   "source": [
    "# text = '태안군의회 김기두 의장이 지난해 거둔 성과를 바탕으로 올 한해 군민 중심의 의정활동을 펼치겠다는 힘찬 포부를 밝혔다.'\n",
    "import re\n",
    "from collections import defaultdict\n",
    "text = \"올 가을 출시 예정인 애플의 아이폰16 시리즈 모든 기종에 A18 칩이 탑재될 것으로 보인다.\"\n",
    "\n",
    "def predict(text):\n",
    "    text = re.sub('[^ㄱ-ㅣ가-힣0-9a-zA-Z.]+', \" \", text)\n",
    "    text = text.split(\" \")\n",
    "    print(text)\n",
    "\n",
    "    index_to_tag = tag_tokenizer.index_word\n",
    "\n",
    "    X = sentence_tokenizer.texts_to_sequences([text])\n",
    "\n",
    "    max_len = 70\n",
    "    X = pad_sequences(X, padding='post', maxlen=max_len)\n",
    "\n",
    "    y_predicted = model.predict(X)[0]\n",
    "\n",
    "    tag = defaultdict(list)\n",
    "\n",
    "    for i, pred in enumerate(y_predicted[0]):\n",
    "        if pred not in [0, 1]: # PAD값은 제외\n",
    "            print(f\"{text[i]:17} {index_to_tag[pred]}\")\n",
    "            tag[index_to_tag[pred].split('-')[1]].append(text[i])\n",
    "    \n",
    "    return tag\n",
    "    \n",
    "predict(text)"
   ]
  },
  {
   "cell_type": "markdown",
   "metadata": {},
   "source": [
    "- ps(person) = 이름\n",
    "- fd(study_field) = 학문 분야\n",
    "- tr(theory) = 이론, 법칙, 기법\n",
    "- af(artifacts) = 인공물, 상품명\n",
    "- ogg(organization) = 기관, 기업, 단체\n",
    "- lc(location) = 지역, 자연물, 랜드마크\n",
    "- cv(civilization) = 의식주, 문화\n",
    "- dt(date) = 날짜\n",
    "- ti(time) = 시간\n",
    "- qt(quantity) =숫자 관련 개체명\n",
    "- ev(event) = 행사/축제, 사건/사고\n",
    "- am(animal) = 동물, 신체부위\n",
    "- pt(plant) = 식물 관련\n",
    "- mt(material) = 원소, 화학물, 금속/암석\n",
    "- tm(term) = 그 외 기타"
   ]
  }
 ],
 "metadata": {
  "kernelspec": {
   "display_name": "venv",
   "language": "python",
   "name": "python3"
  },
  "language_info": {
   "codemirror_mode": {
    "name": "ipython",
    "version": 3
   },
   "file_extension": ".py",
   "mimetype": "text/x-python",
   "name": "python",
   "nbconvert_exporter": "python",
   "pygments_lexer": "ipython3",
   "version": "3.9.0"
  }
 },
 "nbformat": 4,
 "nbformat_minor": 2
}
