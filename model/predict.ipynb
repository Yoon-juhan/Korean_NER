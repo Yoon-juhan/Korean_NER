{
 "cells": [
  {
   "cell_type": "markdown",
   "metadata": {},
   "source": [
    "**모델, 토크나이저 불러오기**"
   ]
  },
  {
   "cell_type": "code",
   "execution_count": 21,
   "metadata": {},
   "outputs": [],
   "source": [
    "import json\n",
    "from keras_crf import CRFModel\n",
    "from tensorflow.keras import Model\n",
    "from tensorflow.keras.models import load_model\n",
    "from tensorflow.keras.preprocessing.text import tokenizer_from_json\n",
    "from tensorflow.keras.optimizers import Adam\n",
    "from tensorflow.keras.preprocessing.sequence import pad_sequences\n",
    "\n",
    "# 모델을 저장하고 불러오기 위해 정의\n",
    "class CustomCRFModel(CRFModel):\n",
    "    def __init__(self, model, units):\n",
    "        super(CustomCRFModel, self).__init__(model, units)\n",
    "        self.model = model\n",
    "        self.units = units\n",
    "\n",
    "    def get_config(self):\n",
    "        config = {\n",
    "            'model': self.model.get_config(),\n",
    "            'units': self.units\n",
    "        }\n",
    "        return config\n",
    "\n",
    "    @classmethod\n",
    "    def from_config(cls, config):\n",
    "        model = Model.from_config(config['model'])\n",
    "        units = config['units']\n",
    "        return cls(model, units)\n",
    "\n",
    "custom_objects = {\n",
    "    'CustomCRFModel': CustomCRFModel\n",
    "}\n",
    "\n",
    "# 저장된 모델 불러오기\n",
    "model = load_model('bilstm_crf.h5', custom_objects=custom_objects, compile=False)\n",
    "model.compile(optimizer=Adam(0.001), metrics='accuracy')\n",
    "\n",
    "# 저장된 토크나이저 불러오기\n",
    "with open('sentence_tokenizer_json.json', 'r', encoding='utf-8') as f:\n",
    "    sentence_tokenizer_json = json.load(f)\n",
    "    sentence_tokenizer = tokenizer_from_json(sentence_tokenizer_json)\n",
    "\n",
    "with open('tag_tokenizer_json.json', 'r', encoding='utf-8') as f:\n",
    "    tag_tokenizer_json = json.load(f)\n",
    "    tag_tokenizer = tokenizer_from_json(tag_tokenizer_json)"
   ]
  },
  {
   "cell_type": "code",
   "execution_count": 9,
   "metadata": {},
   "outputs": [
    {
     "name": "stdout",
     "output_type": "stream",
     "text": [
      "Model: \"custom_crf_model_2\"\n",
      "__________________________________________________________________________________________________\n",
      " Layer (type)                   Output Shape         Param #     Connected to                     \n",
      "==================================================================================================\n",
      " sequence_input (InputLayer)    [(None, 70)]         0           []                               \n",
      "                                                                                                  \n",
      " embedding (Embedding)          (None, 70, 128)      45852928    ['sequence_input[0][0]']         \n",
      "                                                                                                  \n",
      " bidirectional (Bidirectional)  (None, 70, 128)      98816       ['embedding[0][0]']              \n",
      "                                                                                                  \n",
      " time_distributed (TimeDistribu  (None, 70, 128)     0           ['bidirectional[0][0]']          \n",
      " ted)                                                                                             \n",
      "                                                                                                  \n",
      " time_distributed_1 (TimeDistri  (None, 70, 32)      4128        ['time_distributed[0][0]']       \n",
      " buted)                                                                                           \n",
      "                                                                                                  \n",
      " crf_3 (CRF)                    [(None, 70),         2144        ['time_distributed_1[0][0]']     \n",
      "                                 (None, 70, 32),                                                  \n",
      "                                 (None,),                                                         \n",
      "                                 (32, 32)]                                                        \n",
      "                                                                                                  \n",
      " decode_sequence (Lambda)       (None, 70)           0           ['crf_3[0][0]']                  \n",
      "                                                                                                  \n",
      " potentials (Lambda)            (None, 70, 32)       0           ['crf_3[0][1]']                  \n",
      "                                                                                                  \n",
      " sequence_length (Lambda)       (None,)              0           ['crf_3[0][2]']                  \n",
      "                                                                                                  \n",
      " kernel (Lambda)                (32, 32)             0           ['crf_3[0][3]']                  \n",
      "                                                                                                  \n",
      " model (Functional)             (None, 70, 32)       45955872    []                               \n",
      "                                                                                                  \n",
      "==================================================================================================\n",
      "Total params: 45,958,016\n",
      "Trainable params: 45,958,016\n",
      "Non-trainable params: 0\n",
      "__________________________________________________________________________________________________\n"
     ]
    }
   ],
   "source": [
    "model.summary()"
   ]
  },
  {
   "cell_type": "code",
   "execution_count": 20,
   "metadata": {},
   "outputs": [
    {
     "name": "stdout",
     "output_type": "stream",
     "text": [
      "['올', '가을', '출시', '예정인', '애플의', '아이폰16', '시리즈', '모든', '기종에', 'A18', '칩이', '탑재될', '것으로', '보인다.']\n",
      "1/1 [==============================] - 0s 63ms/step\n",
      "단어                 예측값\n",
      "-----------------------------------\n",
      "올                 B-DT\n",
      "가을                I-DT\n",
      "출시                O\n",
      "예정인               O\n",
      "애플의               O\n",
      "아이폰16             O\n",
      "시리즈               O\n",
      "모든                O\n",
      "기종에               O\n",
      "A18               O\n",
      "칩이                O\n",
      "탑재될               O\n",
      "것으로               O\n",
      "보인다.              O\n"
     ]
    }
   ],
   "source": [
    "# text = '태안군의회 김기두 의장이 지난해 거둔 성과를 바탕으로 올 한해 군민 중심의 의정활동을 펼치겠다는 힘찬 포부를 밝혔다.'\n",
    "import re\n",
    "text = \"올 가을 출시 예정인 애플의 아이폰16 시리즈 모든 기종에 A18 칩이 탑재될 것으로 보인다.\"\n",
    "\n",
    "def predict(text):\n",
    "    text = re.sub('[^ㄱ-ㅣ가-힣0-9a-zA-Z.]+', \" \", text)\n",
    "    text = text.split(\" \")\n",
    "    print(text)\n",
    "\n",
    "    index_to_tag = tag_tokenizer.index_word\n",
    "\n",
    "    X = sentence_tokenizer.texts_to_sequences([text])\n",
    "\n",
    "    max_len = 70\n",
    "    X = pad_sequences(X, padding='post', maxlen=max_len)\n",
    "\n",
    "    y_predicted = model.predict(X)[0]\n",
    "\n",
    "    print(\"단어                 예측값\")\n",
    "    print(\"-\" * 35)\n",
    "\n",
    "    for i, pred in enumerate(y_predicted[0]):\n",
    "        if pred != 0: # PAD값은 제외\n",
    "            print(f\"{text[i]:17} {index_to_tag[pred]}\")\n",
    "\n",
    "predict(text)"
   ]
  }
 ],
 "metadata": {
  "kernelspec": {
   "display_name": "venv",
   "language": "python",
   "name": "python3"
  },
  "language_info": {
   "codemirror_mode": {
    "name": "ipython",
    "version": 3
   },
   "file_extension": ".py",
   "mimetype": "text/x-python",
   "name": "python",
   "nbconvert_exporter": "python",
   "pygments_lexer": "ipython3",
   "version": "3.9.0"
  }
 },
 "nbformat": 4,
 "nbformat_minor": 2
}
