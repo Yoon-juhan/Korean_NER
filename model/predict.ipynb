{
 "cells": [
  {
   "cell_type": "markdown",
   "metadata": {},
   "source": [
    "**모델, 토크나이저 불러오기**"
   ]
  },
  {
   "cell_type": "code",
   "execution_count": 10,
   "metadata": {},
   "outputs": [],
   "source": [
    "from keras_crf import CRFModel\n",
    "from tensorflow.keras.models import load_model\n",
    "from tensorflow.keras.preprocessing.text import tokenizer_from_json\n",
    "import json\n",
    "\n",
    "class CustomCRFModel(CRFModel):\n",
    "    def __init__(self, model, units, **kwargs):\n",
    "        super(CustomCRFModel, self).__init__(model, units, **kwargs)\n",
    "        self.model = model\n",
    "        self.units = units\n",
    "\n",
    "    def get_config(self):\n",
    "        config = super().get_config()\n",
    "        return config\n",
    "\n",
    "    @classmethod\n",
    "    def from_config(cls, config):\n",
    "        return cls(**config)\n",
    "\n",
    "\n",
    "# 저장된 모델 불러오기\n",
    "model = load_model('bilstm_crf.h5', custom_objects={'CustomCRFModel': CustomCRFModel})\n",
    "\n",
    "# 저장된 토크나이저 불러오기\n",
    "with open('sentence_tokenizer_json.json', 'r', encoding='utf-8') as f:\n",
    "    sentence_tokenizer_json = json.load(f)\n",
    "    sentence_tokenizer = tokenizer_from_json(sentence_tokenizer_json)\n",
    "\n",
    "with open('tag_tokenizer_json.json', 'r', encoding='utf-8') as f:\n",
    "    tag_tokenizer_json = json.load(f)\n",
    "    tag_tokenizer = tokenizer_from_json(tag_tokenizer_json)"
   ]
  },
  {
   "cell_type": "code",
   "execution_count": 13,
   "metadata": {},
   "outputs": [],
   "source": [
    "index_to_word = sentence_tokenizer.index_word\n",
    "index_to_tag = tag_tokenizer.index_word"
   ]
  },
  {
   "cell_type": "code",
   "execution_count": 14,
   "metadata": {},
   "outputs": [],
   "source": [
    "text = \"\"\"다시 태어난다면 다시 사랑한다면\n",
    "그때는 우리 이러지 말아요\n",
    "조금 덜 만나고 조금 덜 기대하며 많은 약속 않기로 해요\n",
    "다시 이별이 와도 서로 큰 아픔 없이 돌아설 수 있을\n",
    "만큼\n",
    "버려도 되는 가벼운 추억만 서로의 가슴에 만들기로 해요\n",
    "이젠 알아요 너무 깊은 사랑은 외려 슬픈 마지막을 가져온다는 걸 그대여 빌게요\n",
    "다음 번에 사랑은 우리 같지 않길\n",
    "부디 아픔이 없이\n",
    "나나 꼭 나보다 더 행복해져야만해\n",
    "많은 시간이 흘러 서로 잊고 지내도\n",
    "지난날을 회상하며 그때도 이건 사랑이었다고 말할 수 있다면 그걸로 된 거죠\n",
    "이젠 알아요 너무 깊은 사랑은 외려 슬픈 마지막을 가져온다는 걸\n",
    "그대여 빌게요\"\"\"\n",
    "\n",
    "text = text.split(\" \")"
   ]
  },
  {
   "cell_type": "code",
   "execution_count": 15,
   "metadata": {},
   "outputs": [],
   "source": [
    "X = sentence_tokenizer.texts_to_sequences([text])"
   ]
  },
  {
   "cell_type": "code",
   "execution_count": 17,
   "metadata": {},
   "outputs": [],
   "source": [
    "from tensorflow.keras.preprocessing.sequence import pad_sequences\n",
    "\n",
    "max_len = 70\n",
    "\n",
    "X = pad_sequences(X, padding='post', maxlen=max_len)"
   ]
  },
  {
   "cell_type": "code",
   "execution_count": null,
   "metadata": {},
   "outputs": [],
   "source": [
    "y_predicted = model.predict(X)[0]"
   ]
  },
  {
   "cell_type": "code",
   "execution_count": null,
   "metadata": {},
   "outputs": [],
   "source": [
    "print(\"{:20}|{:5}|{}\".format(\"단어\", \"실제값\", \"예측값\"))\n",
    "print(\"-\" * 38)\n",
    "\n",
    "for pred in y_predicted[0]:\n",
    "    if pred != 0: # PAD값은 제외\n",
    "        print(index_to_tag[pred])"
   ]
  }
 ],
 "metadata": {
  "kernelspec": {
   "display_name": "venv",
   "language": "python",
   "name": "python3"
  },
  "language_info": {
   "codemirror_mode": {
    "name": "ipython",
    "version": 3
   },
   "file_extension": ".py",
   "mimetype": "text/x-python",
   "name": "python",
   "nbconvert_exporter": "python",
   "pygments_lexer": "ipython3",
   "version": "3.9.0"
  }
 },
 "nbformat": 4,
 "nbformat_minor": 2
}
